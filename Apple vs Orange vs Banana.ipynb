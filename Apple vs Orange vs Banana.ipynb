{
 "cells": [
  {
   "cell_type": "code",
   "execution_count": 1,
   "metadata": {},
   "outputs": [
    {
     "name": "stderr",
     "output_type": "stream",
     "text": [
      "C:\\Users\\Jeet J\\Anaconda3\\lib\\site-packages\\h5py\\__init__.py:34: FutureWarning: Conversion of the second argument of issubdtype from `float` to `np.floating` is deprecated. In future, it will be treated as `np.float64 == np.dtype(float).type`.\n",
      "  from ._conv import register_converters as _register_converters\n"
     ]
    },
    {
     "name": "stdout",
     "output_type": "stream",
     "text": [
      "curses is not supported on this machine (please install/reinstall curses for an optimal experience)\n"
     ]
    }
   ],
   "source": [
    "import os\n",
    "import cv2\n",
    "import numpy as np\n",
    "import tensorflow as tf\n",
    "import matplotlib.pyplot as plt\n",
    "from random import shuffle\n",
    "import tflearn\n",
    "from tqdm import tqdm\n",
    "from tflearn.layers.conv import conv_2d, max_pool_2d\n",
    "from tflearn.layers.core import input_data, dropout, fully_connected\n",
    "from tflearn.layers.estimator import regression"
   ]
  },
  {
   "cell_type": "code",
   "execution_count": 21,
   "metadata": {},
   "outputs": [],
   "source": [
    "# Renaming the Images of Orange\n",
    "folder = \"C:\\\\Users\\Jeet J\\AnacondaProjects\\Internship\\Orange\\\\\"\n",
    "i=0\n",
    "\n",
    "for filename in os.listdir(folder):\n",
    "    dst =str(i) + \".Orange.jpg\" \n",
    "    src ='C:\\\\Users\\Jeet J\\AnacondaProjects\\Internship\\Orange\\\\'+ filename\n",
    "    dst ='C:\\\\Users\\Jeet J\\AnacondaProjects\\Internship\\Orange\\\\'+ dst      \n",
    "    os.rename(src, dst)\n",
    "    i += 1    "
   ]
  },
  {
   "cell_type": "code",
   "execution_count": 22,
   "metadata": {},
   "outputs": [],
   "source": [
    "# Renaming the Images of Apple\n",
    "folder = \"C:\\\\Users\\Jeet J\\AnacondaProjects\\Internship\\Apple\\\\\"\n",
    "i=0\n",
    "\n",
    "for filename in os.listdir(folder):\n",
    "    dst = str(i) + \".Apple.jpg\"\n",
    "    src ='C:\\\\Users\\Jeet J\\AnacondaProjects\\Internship\\Apple\\\\'+ filename\n",
    "    dst ='C:\\\\Users\\Jeet J\\AnacondaProjects\\Internship\\Apple\\\\'+ dst      \n",
    "    os.rename(src, dst)\n",
    "    i += 1  "
   ]
  },
  {
   "cell_type": "code",
   "execution_count": 54,
   "metadata": {
    "collapsed": true
   },
   "outputs": [],
   "source": [
    "# Renaming the Images of Banana\n",
    "folder = \"C:\\\\Users\\Jeet J\\AnacondaProjects\\Internship\\Banana\\\\\"\n",
    "i=0\n",
    "\n",
    "for filename in os.listdir(folder):\n",
    "    dst = str(i) + \".Banana.jpg\"\n",
    "    src ='C:\\\\Users\\Jeet J\\AnacondaProjects\\Internship\\Banana\\\\'+ filename\n",
    "    dst ='C:\\\\Users\\Jeet J\\AnacondaProjects\\Internship\\Banana\\\\'+ dst      \n",
    "    os.rename(src, dst)\n",
    "    i += 1  "
   ]
  },
  {
   "cell_type": "code",
   "execution_count": 2,
   "metadata": {
    "collapsed": true
   },
   "outputs": [],
   "source": [
    "def create_label(image_name):\n",
    "    word_label = image_name.split('.')[-2]\n",
    "#     word_label = image_name[:6]\n",
    "    if word_label == 'Orange':\n",
    "        return np.array([1,0,0])\n",
    "    elif word_label == 'Apple':\n",
    "        return np.array([0,1,0])\n",
    "    elif word_label == 'Banana':\n",
    "        return np.array([0,0,1])"
   ]
  },
  {
   "cell_type": "code",
   "execution_count": 3,
   "metadata": {
    "collapsed": true
   },
   "outputs": [],
   "source": [
    "train_dir = \"C:\\\\Users\\Jeet J\\AnacondaProjects\\Internship\\Train_data\"\n",
    "test_dir = \"C:\\\\Users\\Jeet J\\AnacondaProjects\\Internship\\Test_data\"\n",
    "\n",
    "def create_train_data():\n",
    "    training_data = []\n",
    "    for img in tqdm(os.listdir(train_dir)):\n",
    "#         print(img)\n",
    "        path = os.path.join(train_dir, img)\n",
    "        img_data = cv2.imread(path, cv2.IMREAD_GRAYSCALE)\n",
    "        img_data = cv2.resize(img_data, (50, 50))\n",
    "        training_data.append([np.array(img_data), create_label(img)])\n",
    "        print(create_label(img))\n",
    "#         print(1)\n",
    "#         print()\n",
    "    shuffle(training_data)\n",
    "    np.save('train_data', training_data)\n",
    "    return training_data\n",
    "\n",
    "def create_test_data():\n",
    "    testing_data = []\n",
    "    for img in tqdm(os.listdir(test_dir)):\n",
    "        path = os.path.join(test_dir,img)\n",
    "        img_num = img.split('.')[0]\n",
    "        img_data = cv2.imread(path, cv2.IMREAD_GRAYSCALE)\n",
    "        img_data = cv2.resize(img_data, (50, 50))\n",
    "        testing_data.append([np.array(img_data), img_num])\n",
    "        \n",
    "    shuffle(testing_data)\n",
    "    np.save('test_data', testing_data)\n",
    "    return testing_data"
   ]
  },
  {
   "cell_type": "code",
   "execution_count": 16,
   "metadata": {
    "collapsed": true
   },
   "outputs": [
    {
     "name": "stderr",
     "output_type": "stream",
     "text": [
      "\r",
      "  0%|                                                                                         | 0/1338 [00:00<?, ?it/s]"
     ]
    },
    {
     "name": "stdout",
     "output_type": "stream",
     "text": [
      "[0 1 0]\n",
      "[0 0 1]\n",
      "[1 0 0]\n",
      "[0 1 0]\n",
      "[0 0 1]\n",
      "[1 0 0]\n",
      "[0 1 0]\n",
      "[0 0 1]\n",
      "[1 0 0]\n",
      "[0 0 1]\n",
      "[1 0 0]\n",
      "[0 0 1]\n",
      "[1 0 0]\n",
      "[0 0 1]\n",
      "[1 0 0]\n",
      "[0 0 1]\n",
      "[1 0 0]\n",
      "[0 0 1]\n",
      "[1 0 0]\n",
      "[0 0 1]\n",
      "[1 0 0]\n",
      "[0 0 1]\n"
     ]
    },
    {
     "name": "stderr",
     "output_type": "stream",
     "text": [
      "\r",
      "  2%|█▎                                                                             | 22/1338 [00:00<00:06, 213.45it/s]"
     ]
    },
    {
     "name": "stdout",
     "output_type": "stream",
     "text": [
      "[1 0 0]\n",
      "[0 0 1]\n",
      "[1 0 0]\n",
      "[0 0 1]\n",
      "[1 0 0]\n",
      "[0 0 1]\n",
      "[1 0 0]\n",
      "[0 1 0]\n",
      "[0 0 1]\n",
      "[1 0 0]\n",
      "[0 0 1]\n",
      "[1 0 0]\n",
      "[0 0 1]\n",
      "[1 0 0]\n",
      "[0 0 1]\n",
      "[1 0 0]\n",
      "[0 0 1]\n",
      "[1 0 0]\n",
      "[0 0 1]\n"
     ]
    },
    {
     "name": "stderr",
     "output_type": "stream",
     "text": [
      "\r",
      "  3%|██▍                                                                            | 41/1338 [00:00<00:06, 199.86it/s]"
     ]
    },
    {
     "name": "stdout",
     "output_type": "stream",
     "text": [
      "[1 0 0]\n",
      "[0 0 1]\n",
      "[1 0 0]\n",
      "[0 0 1]\n",
      "[1 0 0]\n",
      "[0 0 1]\n",
      "[1 0 0]\n",
      "[0 0 1]\n",
      "[1 0 0]\n",
      "[0 0 1]\n",
      "[1 0 0]\n",
      "[0 1 0]\n",
      "[0 0 1]\n",
      "[1 0 0]\n",
      "[0 0 1]\n",
      "[1 0 0]\n",
      "[0 0 1]\n"
     ]
    },
    {
     "name": "stderr",
     "output_type": "stream",
     "text": [
      "\r",
      "  4%|███▍                                                                           | 58/1338 [00:00<00:06, 189.41it/s]"
     ]
    },
    {
     "name": "stdout",
     "output_type": "stream",
     "text": [
      "[1 0 0]\n",
      "[0 0 1]\n",
      "[1 0 0]\n",
      "[0 0 1]\n",
      "[1 0 0]\n",
      "[0 0 1]\n",
      "[1 0 0]\n",
      "[0 0 1]\n",
      "[1 0 0]\n",
      "[0 0 1]\n",
      "[1 0 0]\n",
      "[0 0 1]\n",
      "[1 0 0]\n",
      "[0 0 1]\n",
      "[1 0 0]\n",
      "[0 0 1]\n",
      "[1 0 0]\n",
      "[0 1 0]\n"
     ]
    },
    {
     "name": "stderr",
     "output_type": "stream",
     "text": [
      "\r",
      "  6%|████▍                                                                          | 76/1338 [00:00<00:06, 186.60it/s]"
     ]
    },
    {
     "name": "stdout",
     "output_type": "stream",
     "text": [
      "[0 0 1]\n",
      "[1 0 0]\n",
      "[0 1 0]\n",
      "[0 0 1]\n",
      "[1 0 0]\n",
      "[0 1 0]\n",
      "[0 0 1]\n",
      "[1 0 0]\n",
      "[0 1 0]\n",
      "[0 0 1]\n",
      "[1 0 0]\n",
      "[0 1 0]\n",
      "[0 0 1]\n",
      "[1 0 0]\n",
      "[0 1 0]\n",
      "[0 0 1]\n",
      "[1 0 0]\n",
      "[0 1 0]\n",
      "[0 0 1]\n"
     ]
    },
    {
     "name": "stderr",
     "output_type": "stream",
     "text": [
      "\r",
      "  7%|█████▌                                                                         | 95/1338 [00:00<00:06, 186.51it/s]"
     ]
    },
    {
     "name": "stdout",
     "output_type": "stream",
     "text": [
      "[1 0 0]\n",
      "[0 1 0]\n",
      "[0 0 1]\n",
      "[1 0 0]\n",
      "[0 1 0]\n",
      "[0 0 1]\n",
      "[1 0 0]\n",
      "[0 1 0]\n",
      "[0 0 1]\n",
      "[1 0 0]\n",
      "[0 1 0]\n",
      "[0 0 1]\n",
      "[1 0 0]\n",
      "[0 1 0]\n",
      "[0 0 1]\n",
      "[1 0 0]\n",
      "[0 1 0]\n",
      "[0 0 1]\n",
      "[1 0 0]\n"
     ]
    },
    {
     "name": "stderr",
     "output_type": "stream",
     "text": [
      "\r",
      "  9%|██████▋                                                                       | 114/1338 [00:00<00:06, 186.45it/s]"
     ]
    },
    {
     "name": "stdout",
     "output_type": "stream",
     "text": [
      "[0 1 0]\n",
      "[0 0 1]\n",
      "[1 0 0]\n",
      "[0 1 0]\n",
      "[0 0 1]\n",
      "[1 0 0]\n",
      "[0 1 0]\n",
      "[0 0 1]\n",
      "[1 0 0]\n",
      "[0 1 0]\n",
      "[0 0 1]\n",
      "[1 0 0]\n",
      "[0 1 0]\n",
      "[0 0 1]\n",
      "[1 0 0]\n",
      "[0 1 0]\n",
      "[0 0 1]\n",
      "[1 0 0]\n",
      "[0 1 0]\n",
      "[0 0 1]\n"
     ]
    },
    {
     "name": "stderr",
     "output_type": "stream",
     "text": [
      "\r",
      " 10%|███████▊                                                                      | 134/1338 [00:00<00:06, 186.76it/s]"
     ]
    },
    {
     "name": "stdout",
     "output_type": "stream",
     "text": [
      "[1 0 0]\n",
      "[0 1 0]\n",
      "[0 0 1]\n",
      "[1 0 0]\n",
      "[0 1 0]\n",
      "[0 0 1]\n",
      "[1 0 0]\n",
      "[0 1 0]\n",
      "[0 0 1]\n",
      "[1 0 0]\n",
      "[0 1 0]\n",
      "[1 0 0]\n",
      "[0 1 0]\n",
      "[1 0 0]\n",
      "[0 1 0]\n",
      "[1 0 0]\n",
      "[0 1 0]\n",
      "[1 0 0]\n",
      "[0 1 0]\n"
     ]
    },
    {
     "name": "stderr",
     "output_type": "stream",
     "text": [
      "\r",
      " 11%|████████▉                                                                     | 153/1338 [00:00<00:06, 185.32it/s]"
     ]
    },
    {
     "name": "stdout",
     "output_type": "stream",
     "text": [
      "[1 0 0]\n",
      "[0 1 0]\n",
      "[1 0 0]\n",
      "[0 1 0]\n",
      "[1 0 0]\n",
      "[0 1 0]\n",
      "[1 0 0]\n",
      "[0 1 0]\n",
      "[1 0 0]\n",
      "[0 1 0]\n",
      "[1 0 0]\n",
      "[0 1 0]\n",
      "[0 0 1]\n",
      "[1 0 0]\n",
      "[0 1 0]\n",
      "[1 0 0]\n",
      "[0 1 0]\n",
      "[1 0 0]\n",
      "[0 1 0]\n"
     ]
    },
    {
     "name": "stderr",
     "output_type": "stream",
     "text": [
      "\r",
      " 13%|██████████                                                                    | 172/1338 [00:00<00:06, 185.61it/s]"
     ]
    },
    {
     "name": "stdout",
     "output_type": "stream",
     "text": [
      "[1 0 0]\n",
      "[0 1 0]\n",
      "[1 0 0]\n",
      "[0 1 0]\n",
      "[1 0 0]\n",
      "[0 1 0]\n",
      "[1 0 0]\n",
      "[0 1 0]\n",
      "[1 0 0]\n",
      "[0 1 0]\n",
      "[1 0 0]\n",
      "[0 1 0]\n",
      "[1 0 0]\n",
      "[0 1 0]\n",
      "[1 0 0]\n",
      "[0 1 0]\n",
      "[0 0 1]\n",
      "[1 0 0]\n"
     ]
    },
    {
     "name": "stderr",
     "output_type": "stream",
     "text": [
      "\r",
      " 14%|███████████                                                                   | 190/1338 [00:01<00:06, 185.05it/s]"
     ]
    },
    {
     "name": "stdout",
     "output_type": "stream",
     "text": [
      "[0 1 0]\n",
      "[1 0 0]\n",
      "[0 1 0]\n",
      "[1 0 0]\n",
      "[0 1 0]\n",
      "[1 0 0]\n",
      "[0 1 0]\n",
      "[1 0 0]\n",
      "[0 1 0]\n",
      "[1 0 0]\n",
      "[0 1 0]\n",
      "[1 0 0]\n",
      "[0 1 0]\n",
      "[1 0 0]\n",
      "[0 1 0]\n",
      "[1 0 0]\n",
      "[0 1 0]\n",
      "[1 0 0]\n",
      "[0 1 0]\n"
     ]
    },
    {
     "name": "stderr",
     "output_type": "stream",
     "text": [
      "\r",
      " 16%|████████████▏                                                                 | 209/1338 [00:01<00:06, 184.99it/s]"
     ]
    },
    {
     "name": "stdout",
     "output_type": "stream",
     "text": [
      "[1 0 0]\n",
      "[0 1 0]\n",
      "[0 0 1]\n",
      "[1 0 0]\n",
      "[0 1 0]\n",
      "[0 0 1]\n",
      "[1 0 0]\n",
      "[0 1 0]\n",
      "[0 0 1]\n",
      "[1 0 0]\n",
      "[0 1 0]\n",
      "[0 0 1]\n",
      "[1 0 0]\n",
      "[0 1 0]\n",
      "[0 0 1]\n",
      "[1 0 0]\n",
      "[0 1 0]\n",
      "[0 0 1]\n",
      "[1 0 0]\n"
     ]
    },
    {
     "name": "stderr",
     "output_type": "stream",
     "text": [
      "\r",
      " 17%|█████████████▎                                                                | 228/1338 [00:01<00:06, 184.78it/s]"
     ]
    },
    {
     "name": "stdout",
     "output_type": "stream",
     "text": [
      "[0 1 0]\n",
      "[0 0 1]\n",
      "[1 0 0]\n",
      "[0 1 0]\n",
      "[0 0 1]\n",
      "[1 0 0]\n",
      "[0 1 0]\n",
      "[0 0 1]\n",
      "[1 0 0]\n",
      "[0 1 0]\n",
      "[0 0 1]\n",
      "[1 0 0]\n",
      "[0 1 0]\n",
      "[0 0 1]\n",
      "[1 0 0]\n",
      "[0 1 0]\n",
      "[0 0 1]\n",
      "[1 0 0]\n",
      "[0 1 0]\n",
      "[0 0 1]\n",
      "[1 0 0]\n"
     ]
    },
    {
     "name": "stderr",
     "output_type": "stream",
     "text": [
      "\r",
      " 19%|██████████████▌                                                               | 249/1338 [00:01<00:05, 186.11it/s]"
     ]
    },
    {
     "name": "stdout",
     "output_type": "stream",
     "text": [
      "[0 1 0]\n",
      "[0 0 1]\n",
      "[1 0 0]\n",
      "[0 1 0]\n",
      "[0 0 1]\n",
      "[1 0 0]\n",
      "[0 1 0]\n",
      "[0 0 1]\n",
      "[1 0 0]\n",
      "[0 1 0]\n",
      "[0 0 1]\n",
      "[1 0 0]\n",
      "[0 1 0]\n",
      "[0 0 1]\n",
      "[1 0 0]\n",
      "[0 1 0]\n",
      "[0 0 1]\n",
      "[1 0 0]\n",
      "[0 1 0]\n",
      "[0 0 1]\n"
     ]
    },
    {
     "name": "stderr",
     "output_type": "stream",
     "text": [
      "\r",
      " 20%|███████████████▋                                                              | 269/1338 [00:01<00:05, 186.80it/s]"
     ]
    },
    {
     "name": "stdout",
     "output_type": "stream",
     "text": [
      "[1 0 0]\n",
      "[0 1 0]\n",
      "[0 0 1]\n",
      "[1 0 0]\n",
      "[0 1 0]\n",
      "[0 0 1]\n",
      "[1 0 0]\n",
      "[0 1 0]\n",
      "[0 0 1]\n",
      "[1 0 0]\n",
      "[0 1 0]\n",
      "[0 0 1]\n",
      "[1 0 0]\n",
      "[0 1 0]\n",
      "[0 0 1]\n",
      "[1 0 0]\n",
      "[0 1 0]\n",
      "[0 0 1]\n",
      "[1 0 0]\n"
     ]
    },
    {
     "name": "stderr",
     "output_type": "stream",
     "text": [
      "\r",
      " 22%|████████████████▊                                                             | 288/1338 [00:01<00:05, 186.88it/s]"
     ]
    },
    {
     "name": "stdout",
     "output_type": "stream",
     "text": [
      "[0 1 0]\n",
      "[0 0 1]\n",
      "[1 0 0]\n",
      "[0 1 0]\n",
      "[0 0 1]\n",
      "[1 0 0]\n",
      "[0 1 0]\n",
      "[0 0 1]\n",
      "[1 0 0]\n",
      "[0 1 0]\n",
      "[0 0 1]\n",
      "[1 0 0]\n",
      "[0 1 0]\n",
      "[0 0 1]\n",
      "[1 0 0]\n",
      "[0 1 0]\n",
      "[0 0 1]\n",
      "[1 0 0]\n",
      "[0 1 0]\n",
      "[0 0 1]\n"
     ]
    },
    {
     "name": "stderr",
     "output_type": "stream",
     "text": [
      "\r",
      " 23%|█████████████████▉                                                            | 308/1338 [00:01<00:05, 187.33it/s]"
     ]
    },
    {
     "name": "stdout",
     "output_type": "stream",
     "text": [
      "[1 0 0]\n",
      "[0 1 0]\n",
      "[0 0 1]\n",
      "[1 0 0]\n",
      "[0 1 0]\n",
      "[0 0 1]\n",
      "[1 0 0]\n",
      "[0 1 0]\n",
      "[0 0 1]\n",
      "[1 0 0]\n",
      "[0 1 0]\n",
      "[0 0 1]\n",
      "[1 0 0]\n",
      "[0 1 0]\n",
      "[0 0 1]\n",
      "[1 0 0]\n",
      "[0 1 0]\n",
      "[0 0 1]\n",
      "[1 0 0]\n",
      "[0 1 0]\n"
     ]
    },
    {
     "name": "stderr",
     "output_type": "stream",
     "text": [
      "\r",
      " 25%|███████████████████                                                           | 328/1338 [00:01<00:05, 187.72it/s]"
     ]
    },
    {
     "name": "stdout",
     "output_type": "stream",
     "text": [
      "[0 0 1]\n",
      "[1 0 0]\n",
      "[0 1 0]\n",
      "[0 0 1]\n",
      "[1 0 0]\n",
      "[0 1 0]\n",
      "[0 0 1]\n",
      "[1 0 0]\n",
      "[0 1 0]\n",
      "[0 0 1]\n",
      "[1 0 0]\n",
      "[0 1 0]\n",
      "[0 0 1]\n",
      "[1 0 0]\n",
      "[0 1 0]\n",
      "[0 0 1]\n",
      "[1 0 0]\n",
      "[0 1 0]\n",
      "[0 0 1]\n",
      "[1 0 0]\n"
     ]
    },
    {
     "name": "stderr",
     "output_type": "stream",
     "text": [
      "\r",
      " 26%|████████████████████▎                                                         | 348/1338 [00:01<00:05, 188.18it/s]"
     ]
    },
    {
     "name": "stdout",
     "output_type": "stream",
     "text": [
      "[0 1 0]\n",
      "[0 0 1]\n",
      "[1 0 0]\n",
      "[0 1 0]\n",
      "[0 0 1]\n",
      "[1 0 0]\n",
      "[0 1 0]\n",
      "[0 0 1]\n",
      "[1 0 0]\n",
      "[0 1 0]\n",
      "[0 0 1]\n",
      "[1 0 0]\n",
      "[0 1 0]\n",
      "[0 0 1]\n",
      "[1 0 0]\n",
      "[0 1 0]\n",
      "[0 0 1]\n",
      "[1 0 0]\n",
      "[0 1 0]\n",
      "[0 0 1]\n"
     ]
    },
    {
     "name": "stderr",
     "output_type": "stream",
     "text": [
      "\r",
      " 28%|█████████████████████▍                                                        | 368/1338 [00:01<00:05, 188.78it/s]"
     ]
    },
    {
     "name": "stdout",
     "output_type": "stream",
     "text": [
      "[1 0 0]\n",
      "[0 1 0]\n",
      "[0 0 1]\n",
      "[1 0 0]\n",
      "[0 1 0]\n",
      "[0 0 1]\n",
      "[1 0 0]\n",
      "[0 1 0]\n",
      "[0 0 1]\n",
      "[1 0 0]\n",
      "[0 1 0]\n",
      "[0 0 1]\n",
      "[1 0 0]\n",
      "[0 1 0]\n",
      "[0 0 1]\n",
      "[1 0 0]\n",
      "[0 1 0]\n",
      "[0 0 1]\n",
      "[1 0 0]\n",
      "[0 1 0]\n"
     ]
    },
    {
     "name": "stderr",
     "output_type": "stream",
     "text": [
      "\r",
      " 29%|██████████████████████▌                                                       | 388/1338 [00:02<00:05, 189.04it/s]"
     ]
    },
    {
     "name": "stdout",
     "output_type": "stream",
     "text": [
      "[0 0 1]\n",
      "[1 0 0]\n",
      "[0 1 0]\n",
      "[0 0 1]\n",
      "[1 0 0]\n",
      "[0 1 0]\n",
      "[0 0 1]\n",
      "[1 0 0]\n",
      "[0 1 0]\n",
      "[0 0 1]\n",
      "[1 0 0]\n",
      "[0 1 0]\n",
      "[0 0 1]\n",
      "[1 0 0]\n",
      "[0 1 0]\n",
      "[0 0 1]\n",
      "[1 0 0]\n",
      "[0 1 0]\n",
      "[0 0 1]\n",
      "[1 0 0]\n"
     ]
    },
    {
     "name": "stderr",
     "output_type": "stream",
     "text": [
      "\r",
      " 30%|███████████████████████▊                                                      | 408/1338 [00:02<00:04, 188.15it/s]"
     ]
    },
    {
     "name": "stdout",
     "output_type": "stream",
     "text": [
      "[0 1 0]\n",
      "[0 0 1]\n",
      "[1 0 0]\n",
      "[0 1 0]\n",
      "[0 0 1]\n",
      "[1 0 0]\n",
      "[0 1 0]\n",
      "[0 0 1]\n",
      "[1 0 0]\n",
      "[0 1 0]\n",
      "[0 0 1]\n",
      "[1 0 0]\n",
      "[0 1 0]\n",
      "[0 0 1]\n",
      "[1 0 0]\n",
      "[0 1 0]\n",
      "[0 0 1]\n",
      "[1 0 0]\n",
      "[0 1 0]\n",
      "[0 0 1]\n"
     ]
    },
    {
     "name": "stderr",
     "output_type": "stream",
     "text": [
      "\r",
      " 32%|████████████████████████▉                                                     | 428/1338 [00:02<00:04, 188.66it/s]"
     ]
    },
    {
     "name": "stdout",
     "output_type": "stream",
     "text": [
      "[1 0 0]\n",
      "[0 1 0]\n",
      "[0 0 1]\n",
      "[1 0 0]\n",
      "[0 1 0]\n",
      "[0 0 1]\n",
      "[1 0 0]\n",
      "[0 1 0]\n",
      "[0 0 1]\n",
      "[1 0 0]\n",
      "[0 1 0]\n",
      "[0 0 1]\n",
      "[1 0 0]\n",
      "[0 1 0]\n",
      "[0 0 1]\n",
      "[1 0 0]\n",
      "[0 1 0]\n",
      "[0 0 1]\n",
      "[1 0 0]\n",
      "[0 1 0]\n"
     ]
    },
    {
     "name": "stderr",
     "output_type": "stream",
     "text": [
      "\r",
      " 33%|██████████████████████████                                                    | 448/1338 [00:02<00:04, 188.90it/s]"
     ]
    },
    {
     "name": "stdout",
     "output_type": "stream",
     "text": [
      "[0 0 1]\n",
      "[1 0 0]\n",
      "[0 1 0]\n",
      "[0 0 1]\n",
      "[1 0 0]\n",
      "[0 1 0]\n",
      "[0 0 1]\n",
      "[1 0 0]\n",
      "[0 1 0]\n",
      "[0 0 1]\n",
      "[1 0 0]\n",
      "[0 1 0]\n",
      "[0 0 1]\n",
      "[1 0 0]\n",
      "[0 1 0]\n",
      "[0 0 1]\n",
      "[1 0 0]\n",
      "[0 1 0]\n",
      "[0 0 1]\n",
      "[1 0 0]\n"
     ]
    },
    {
     "name": "stderr",
     "output_type": "stream",
     "text": [
      "\r",
      " 35%|███████████████████████████▎                                                  | 468/1338 [00:02<00:04, 189.03it/s]"
     ]
    },
    {
     "name": "stdout",
     "output_type": "stream",
     "text": [
      "[0 1 0]\n",
      "[0 0 1]\n",
      "[1 0 0]\n",
      "[0 1 0]\n",
      "[0 0 1]\n",
      "[1 0 0]\n",
      "[0 1 0]\n",
      "[0 0 1]\n",
      "[1 0 0]\n",
      "[0 1 0]\n",
      "[0 0 1]\n",
      "[1 0 0]\n",
      "[0 1 0]\n",
      "[0 0 1]\n",
      "[1 0 0]\n",
      "[0 1 0]\n",
      "[0 0 1]\n",
      "[1 0 0]\n",
      "[0 1 0]\n",
      "[0 0 1]\n"
     ]
    },
    {
     "name": "stderr",
     "output_type": "stream",
     "text": [
      "\r",
      " 36%|████████████████████████████▍                                                 | 488/1338 [00:02<00:04, 189.38it/s]"
     ]
    },
    {
     "name": "stdout",
     "output_type": "stream",
     "text": [
      "[1 0 0]\n",
      "[0 1 0]\n",
      "[0 0 1]\n",
      "[1 0 0]\n",
      "[0 1 0]\n",
      "[0 0 1]\n",
      "[1 0 0]\n",
      "[0 1 0]\n",
      "[0 0 1]\n",
      "[1 0 0]\n",
      "[0 1 0]\n",
      "[0 0 1]\n",
      "[1 0 0]\n",
      "[0 1 0]\n",
      "[0 0 1]\n",
      "[1 0 0]\n",
      "[0 1 0]\n",
      "[0 0 1]\n",
      "[1 0 0]\n",
      "[0 1 0]\n"
     ]
    },
    {
     "name": "stderr",
     "output_type": "stream",
     "text": [
      "\r",
      " 38%|█████████████████████████████▌                                                | 508/1338 [00:02<00:04, 189.42it/s]"
     ]
    },
    {
     "name": "stdout",
     "output_type": "stream",
     "text": [
      "[0 0 1]\n",
      "[1 0 0]\n",
      "[0 1 0]\n",
      "[0 0 1]\n",
      "[1 0 0]\n",
      "[0 1 0]\n",
      "[0 0 1]\n",
      "[1 0 0]\n",
      "[0 1 0]\n",
      "[0 0 1]\n",
      "[1 0 0]\n",
      "[0 1 0]\n",
      "[0 0 1]\n",
      "[1 0 0]\n",
      "[0 1 0]\n",
      "[0 0 1]\n",
      "[1 0 0]\n",
      "[0 1 0]\n",
      "[0 0 1]\n",
      "[1 0 0]\n"
     ]
    },
    {
     "name": "stderr",
     "output_type": "stream",
     "text": [
      "\r",
      " 39%|██████████████████████████████▊                                               | 528/1338 [00:02<00:04, 189.66it/s]"
     ]
    },
    {
     "name": "stdout",
     "output_type": "stream",
     "text": [
      "[0 1 0]\n",
      "[0 0 1]\n",
      "[1 0 0]\n",
      "[0 1 0]\n",
      "[0 0 1]\n",
      "[1 0 0]\n",
      "[0 1 0]\n",
      "[0 0 1]\n",
      "[1 0 0]\n",
      "[0 1 0]\n",
      "[0 0 1]\n",
      "[1 0 0]\n",
      "[0 1 0]\n",
      "[0 0 1]\n",
      "[1 0 0]\n",
      "[0 1 0]\n",
      "[0 0 1]\n",
      "[1 0 0]\n",
      "[0 1 0]\n",
      "[0 0 1]\n"
     ]
    },
    {
     "name": "stderr",
     "output_type": "stream",
     "text": [
      "\r",
      " 41%|███████████████████████████████▉                                              | 548/1338 [00:02<00:04, 189.88it/s]"
     ]
    },
    {
     "name": "stdout",
     "output_type": "stream",
     "text": [
      "[1 0 0]\n",
      "[0 1 0]\n",
      "[0 0 1]\n",
      "[1 0 0]\n",
      "[0 1 0]\n",
      "[0 0 1]\n",
      "[1 0 0]\n",
      "[0 1 0]\n",
      "[0 0 1]\n",
      "[1 0 0]\n",
      "[0 1 0]\n",
      "[0 0 1]\n",
      "[1 0 0]\n",
      "[0 1 0]\n",
      "[0 0 1]\n",
      "[1 0 0]\n",
      "[0 1 0]\n",
      "[0 0 1]\n",
      "[1 0 0]\n",
      "[0 1 0]\n"
     ]
    },
    {
     "name": "stderr",
     "output_type": "stream",
     "text": [
      "\r",
      " 42%|█████████████████████████████████                                             | 568/1338 [00:02<00:04, 189.58it/s]"
     ]
    },
    {
     "name": "stdout",
     "output_type": "stream",
     "text": [
      "[0 0 1]\n",
      "[1 0 0]\n",
      "[0 1 0]\n",
      "[0 0 1]\n",
      "[1 0 0]\n",
      "[0 1 0]\n",
      "[0 0 1]\n",
      "[1 0 0]\n",
      "[0 1 0]\n",
      "[0 0 1]\n",
      "[1 0 0]\n",
      "[0 1 0]\n",
      "[0 0 1]\n",
      "[1 0 0]\n",
      "[0 1 0]\n",
      "[0 0 1]\n",
      "[1 0 0]\n",
      "[0 1 0]\n",
      "[0 0 1]\n",
      "[1 0 0]\n"
     ]
    },
    {
     "name": "stderr",
     "output_type": "stream",
     "text": [
      "\r",
      " 44%|██████████████████████████████████▎                                           | 588/1338 [00:03<00:03, 189.54it/s]"
     ]
    },
    {
     "name": "stdout",
     "output_type": "stream",
     "text": [
      "[0 1 0]\n",
      "[0 0 1]\n",
      "[1 0 0]\n",
      "[0 1 0]\n",
      "[0 0 1]\n",
      "[1 0 0]\n",
      "[0 1 0]\n",
      "[0 0 1]\n",
      "[1 0 0]\n",
      "[0 1 0]\n",
      "[0 0 1]\n",
      "[1 0 0]\n",
      "[0 1 0]\n",
      "[0 0 1]\n",
      "[1 0 0]\n",
      "[0 1 0]\n",
      "[0 0 1]\n",
      "[1 0 0]\n",
      "[0 1 0]\n",
      "[0 0 1]\n"
     ]
    },
    {
     "name": "stderr",
     "output_type": "stream",
     "text": [
      "\r",
      " 45%|███████████████████████████████████▍                                          | 608/1338 [00:03<00:03, 189.63it/s]"
     ]
    },
    {
     "name": "stdout",
     "output_type": "stream",
     "text": [
      "[1 0 0]\n",
      "[0 1 0]\n",
      "[0 0 1]\n",
      "[1 0 0]\n",
      "[0 1 0]\n",
      "[0 0 1]\n",
      "[1 0 0]\n",
      "[0 1 0]\n",
      "[0 0 1]\n",
      "[1 0 0]\n",
      "[0 1 0]\n",
      "[0 0 1]\n",
      "[1 0 0]\n",
      "[0 1 0]\n",
      "[0 0 1]\n",
      "[1 0 0]\n",
      "[0 1 0]\n",
      "[0 0 1]\n",
      "[1 0 0]\n",
      "[0 1 0]\n"
     ]
    },
    {
     "name": "stderr",
     "output_type": "stream",
     "text": [
      "\r",
      " 47%|████████████████████████████████████▌                                         | 628/1338 [00:03<00:03, 189.59it/s]"
     ]
    },
    {
     "name": "stdout",
     "output_type": "stream",
     "text": [
      "[0 0 1]\n",
      "[1 0 0]\n",
      "[0 1 0]\n",
      "[0 0 1]\n",
      "[1 0 0]\n",
      "[0 1 0]\n",
      "[0 0 1]\n",
      "[1 0 0]\n",
      "[0 1 0]\n",
      "[0 0 1]\n",
      "[1 0 0]\n",
      "[0 1 0]\n",
      "[0 0 1]\n",
      "[1 0 0]\n",
      "[0 1 0]\n",
      "[0 0 1]\n",
      "[1 0 0]\n",
      "[0 1 0]\n",
      "[0 0 1]\n",
      "[1 0 0]\n"
     ]
    },
    {
     "name": "stderr",
     "output_type": "stream",
     "text": [
      "\r",
      " 48%|█████████████████████████████████████▊                                        | 648/1338 [00:03<00:03, 189.56it/s]"
     ]
    },
    {
     "name": "stdout",
     "output_type": "stream",
     "text": [
      "[0 1 0]\n",
      "[0 0 1]\n",
      "[1 0 0]\n",
      "[0 1 0]\n",
      "[0 0 1]\n",
      "[1 0 0]\n",
      "[0 1 0]\n",
      "[0 0 1]\n",
      "[1 0 0]\n",
      "[0 1 0]\n",
      "[0 0 1]\n",
      "[1 0 0]\n",
      "[0 1 0]\n",
      "[0 0 1]\n",
      "[1 0 0]\n",
      "[0 1 0]\n",
      "[0 0 1]\n",
      "[1 0 0]\n",
      "[0 1 0]\n"
     ]
    },
    {
     "name": "stderr",
     "output_type": "stream",
     "text": [
      "\r",
      " 50%|██████████████████████████████████████▉                                       | 667/1338 [00:03<00:03, 189.57it/s]"
     ]
    },
    {
     "name": "stdout",
     "output_type": "stream",
     "text": [
      "[0 0 1]\n",
      "[1 0 0]\n",
      "[0 1 0]\n",
      "[0 0 1]\n",
      "[1 0 0]\n",
      "[0 1 0]\n",
      "[0 0 1]\n",
      "[1 0 0]\n",
      "[0 1 0]\n",
      "[0 0 1]\n",
      "[1 0 0]\n",
      "[0 1 0]\n",
      "[0 0 1]\n",
      "[1 0 0]\n",
      "[0 1 0]\n",
      "[0 0 1]\n",
      "[1 0 0]\n",
      "[0 1 0]\n",
      "[0 0 1]\n"
     ]
    },
    {
     "name": "stderr",
     "output_type": "stream",
     "text": [
      "\r",
      " 51%|███████████████████████████████████████▉                                      | 686/1338 [00:03<00:03, 189.58it/s]"
     ]
    },
    {
     "name": "stdout",
     "output_type": "stream",
     "text": [
      "[1 0 0]\n",
      "[0 1 0]\n",
      "[0 0 1]\n",
      "[1 0 0]\n",
      "[0 1 0]\n",
      "[0 0 1]\n",
      "[1 0 0]\n",
      "[0 1 0]\n",
      "[0 0 1]\n",
      "[1 0 0]\n",
      "[0 1 0]\n",
      "[0 0 1]\n",
      "[1 0 0]\n",
      "[0 1 0]\n",
      "[0 0 1]\n",
      "[1 0 0]\n",
      "[0 1 0]\n",
      "[0 0 1]\n",
      "[1 0 0]\n",
      "[0 1 0]\n"
     ]
    },
    {
     "name": "stderr",
     "output_type": "stream",
     "text": [
      "\r",
      " 53%|█████████████████████████████████████████▏                                    | 706/1338 [00:03<00:03, 189.85it/s]"
     ]
    },
    {
     "name": "stdout",
     "output_type": "stream",
     "text": [
      "[0 0 1]\n",
      "[1 0 0]\n",
      "[0 1 0]\n",
      "[0 0 1]\n",
      "[1 0 0]\n",
      "[0 1 0]\n",
      "[0 0 1]\n",
      "[1 0 0]\n",
      "[0 1 0]\n",
      "[0 0 1]\n",
      "[1 0 0]\n",
      "[0 1 0]\n",
      "[0 0 1]\n",
      "[1 0 0]\n",
      "[0 1 0]\n",
      "[0 0 1]\n",
      "[1 0 0]\n",
      "[0 1 0]\n",
      "[0 0 1]\n",
      "[1 0 0]\n"
     ]
    },
    {
     "name": "stderr",
     "output_type": "stream",
     "text": [
      "\r",
      " 54%|██████████████████████████████████████████▎                                   | 726/1338 [00:03<00:03, 190.07it/s]"
     ]
    },
    {
     "name": "stdout",
     "output_type": "stream",
     "text": [
      "[0 1 0]\n",
      "[0 0 1]\n",
      "[1 0 0]\n",
      "[0 1 0]\n",
      "[0 0 1]\n",
      "[1 0 0]\n",
      "[0 1 0]\n",
      "[0 0 1]\n",
      "[1 0 0]\n",
      "[0 1 0]\n",
      "[0 0 1]\n",
      "[1 0 0]\n",
      "[0 1 0]\n",
      "[0 0 1]\n",
      "[1 0 0]\n",
      "[0 1 0]\n",
      "[0 0 1]\n",
      "[1 0 0]\n",
      "[0 1 0]\n",
      "[0 0 1]\n"
     ]
    },
    {
     "name": "stderr",
     "output_type": "stream",
     "text": [
      "\r",
      " 56%|███████████████████████████████████████████▍                                  | 746/1338 [00:03<00:03, 190.03it/s]"
     ]
    },
    {
     "name": "stdout",
     "output_type": "stream",
     "text": [
      "[1 0 0]\n",
      "[0 1 0]\n",
      "[1 0 0]\n",
      "[0 1 0]\n",
      "[1 0 0]\n",
      "[0 1 0]\n",
      "[1 0 0]\n",
      "[0 1 0]\n",
      "[1 0 0]\n",
      "[0 1 0]\n",
      "[1 0 0]\n",
      "[0 1 0]\n",
      "[1 0 0]\n",
      "[0 1 0]\n",
      "[1 0 0]\n",
      "[0 1 0]\n",
      "[1 0 0]\n",
      "[0 1 0]\n",
      "[1 0 0]\n",
      "[0 1 0]\n"
     ]
    },
    {
     "name": "stderr",
     "output_type": "stream",
     "text": [
      "\r",
      " 57%|████████████████████████████████████████████▋                                 | 766/1338 [00:04<00:03, 189.94it/s]"
     ]
    },
    {
     "name": "stdout",
     "output_type": "stream",
     "text": [
      "[1 0 0]\n",
      "[0 1 0]\n",
      "[0 0 1]\n",
      "[1 0 0]\n",
      "[0 1 0]\n",
      "[1 0 0]\n",
      "[0 1 0]\n",
      "[1 0 0]\n",
      "[0 1 0]\n",
      "[1 0 0]\n",
      "[0 1 0]\n",
      "[1 0 0]\n",
      "[0 1 0]\n",
      "[1 0 0]\n",
      "[0 1 0]\n",
      "[1 0 0]\n",
      "[0 1 0]\n",
      "[1 0 0]\n",
      "[0 1 0]\n",
      "[1 0 0]\n"
     ]
    },
    {
     "name": "stderr",
     "output_type": "stream",
     "text": [
      "\r",
      " 59%|█████████████████████████████████████████████▊                                | 786/1338 [00:04<00:02, 189.86it/s]"
     ]
    },
    {
     "name": "stdout",
     "output_type": "stream",
     "text": [
      "[0 1 0]\n",
      "[1 0 0]\n",
      "[0 1 0]\n",
      "[1 0 0]\n",
      "[0 1 0]\n",
      "[0 0 1]\n",
      "[1 0 0]\n",
      "[0 1 0]\n",
      "[1 0 0]\n",
      "[0 1 0]\n",
      "[1 0 0]\n",
      "[0 1 0]\n",
      "[1 0 0]\n",
      "[0 1 0]\n",
      "[1 0 0]\n",
      "[0 1 0]\n",
      "[1 0 0]\n",
      "[0 1 0]\n",
      "[1 0 0]\n"
     ]
    },
    {
     "name": "stderr",
     "output_type": "stream",
     "text": [
      "\r",
      " 60%|██████████████████████████████████████████████▉                               | 805/1338 [00:04<00:02, 189.81it/s]"
     ]
    },
    {
     "name": "stdout",
     "output_type": "stream",
     "text": [
      "[0 1 0]\n",
      "[1 0 0]\n",
      "[0 1 0]\n",
      "[1 0 0]\n",
      "[0 1 0]\n",
      "[1 0 0]\n",
      "[0 1 0]\n",
      "[1 0 0]\n",
      "[0 1 0]\n",
      "[0 0 1]\n",
      "[1 0 0]\n",
      "[0 1 0]\n",
      "[0 0 1]\n",
      "[1 0 0]\n",
      "[0 1 0]\n",
      "[0 0 1]\n",
      "[1 0 0]\n",
      "[0 1 0]\n",
      "[0 0 1]\n"
     ]
    },
    {
     "name": "stderr",
     "output_type": "stream",
     "text": [
      "\r",
      " 62%|████████████████████████████████████████████████                              | 824/1338 [00:04<00:02, 189.81it/s]"
     ]
    },
    {
     "name": "stdout",
     "output_type": "stream",
     "text": [
      "[1 0 0]\n",
      "[0 1 0]\n",
      "[0 0 1]\n",
      "[1 0 0]\n",
      "[0 1 0]\n",
      "[0 0 1]\n",
      "[1 0 0]\n",
      "[0 1 0]\n",
      "[0 0 1]\n",
      "[1 0 0]\n",
      "[0 1 0]\n",
      "[0 0 1]\n",
      "[1 0 0]\n",
      "[0 1 0]\n",
      "[0 0 1]\n",
      "[1 0 0]\n",
      "[0 1 0]\n",
      "[0 0 1]\n",
      "[1 0 0]\n",
      "[0 1 0]\n"
     ]
    },
    {
     "name": "stderr",
     "output_type": "stream",
     "text": [
      "\r",
      " 63%|█████████████████████████████████████████████████▏                            | 844/1338 [00:04<00:02, 190.00it/s]"
     ]
    },
    {
     "name": "stdout",
     "output_type": "stream",
     "text": [
      "[0 0 1]\n",
      "[1 0 0]\n",
      "[0 1 0]\n",
      "[0 0 1]\n",
      "[1 0 0]\n",
      "[0 1 0]\n",
      "[0 0 1]\n",
      "[1 0 0]\n",
      "[0 1 0]\n",
      "[0 0 1]\n",
      "[1 0 0]\n",
      "[0 1 0]\n",
      "[0 0 1]\n",
      "[1 0 0]\n",
      "[0 1 0]\n",
      "[0 0 1]\n",
      "[1 0 0]\n",
      "[0 1 0]\n",
      "[0 0 1]\n",
      "[1 0 0]\n",
      "[0 1 0]\n"
     ]
    },
    {
     "name": "stderr",
     "output_type": "stream",
     "text": [
      "\r",
      " 65%|██████████████████████████████████████████████████▍                           | 865/1338 [00:04<00:02, 190.31it/s]"
     ]
    },
    {
     "name": "stdout",
     "output_type": "stream",
     "text": [
      "[0 0 1]\n",
      "[1 0 0]\n",
      "[0 1 0]\n",
      "[0 0 1]\n",
      "[1 0 0]\n",
      "[0 1 0]\n",
      "[0 0 1]\n",
      "[1 0 0]\n",
      "[0 1 0]\n",
      "[0 0 1]\n",
      "[1 0 0]\n",
      "[0 1 0]\n",
      "[0 0 1]\n",
      "[1 0 0]\n",
      "[0 1 0]\n",
      "[0 0 1]\n",
      "[1 0 0]\n",
      "[0 1 0]\n",
      "[0 0 1]\n",
      "[1 0 0]\n",
      "[0 1 0]\n"
     ]
    },
    {
     "name": "stderr",
     "output_type": "stream",
     "text": [
      "\r",
      " 66%|███████████████████████████████████████████████████▋                          | 886/1338 [00:04<00:02, 190.57it/s]"
     ]
    },
    {
     "name": "stdout",
     "output_type": "stream",
     "text": [
      "[0 0 1]\n",
      "[1 0 0]\n",
      "[0 1 0]\n",
      "[0 0 1]\n",
      "[1 0 0]\n",
      "[0 1 0]\n",
      "[0 0 1]\n",
      "[1 0 0]\n",
      "[0 1 0]\n",
      "[0 0 1]\n",
      "[1 0 0]\n",
      "[0 1 0]\n",
      "[0 0 1]\n",
      "[1 0 0]\n",
      "[0 1 0]\n",
      "[0 0 1]\n",
      "[1 0 0]\n",
      "[0 1 0]\n",
      "[0 0 1]\n",
      "[1 0 0]\n",
      "[0 1 0]\n"
     ]
    },
    {
     "name": "stderr",
     "output_type": "stream",
     "text": [
      "\r",
      " 68%|████████████████████████████████████████████████████▊                         | 907/1338 [00:04<00:02, 190.85it/s]"
     ]
    },
    {
     "name": "stdout",
     "output_type": "stream",
     "text": [
      "[0 0 1]\n",
      "[1 0 0]\n",
      "[0 1 0]\n",
      "[0 0 1]\n",
      "[1 0 0]\n",
      "[0 1 0]\n",
      "[0 0 1]\n",
      "[1 0 0]\n",
      "[0 1 0]\n",
      "[0 0 1]\n",
      "[1 0 0]\n",
      "[0 1 0]\n",
      "[0 0 1]\n",
      "[1 0 0]\n",
      "[0 1 0]\n",
      "[0 0 1]\n",
      "[1 0 0]\n",
      "[0 1 0]\n",
      "[0 0 1]\n",
      "[1 0 0]\n"
     ]
    },
    {
     "name": "stderr",
     "output_type": "stream",
     "text": [
      "\r",
      " 69%|██████████████████████████████████████████████████████                        | 927/1338 [00:04<00:02, 191.00it/s]"
     ]
    },
    {
     "name": "stdout",
     "output_type": "stream",
     "text": [
      "[0 1 0]\n",
      "[0 0 1]\n",
      "[1 0 0]\n",
      "[0 1 0]\n",
      "[0 0 1]\n",
      "[1 0 0]\n",
      "[0 1 0]\n",
      "[0 0 1]\n",
      "[1 0 0]\n",
      "[0 1 0]\n",
      "[0 0 1]\n",
      "[1 0 0]\n",
      "[0 1 0]\n",
      "[0 0 1]\n",
      "[1 0 0]\n",
      "[0 1 0]\n",
      "[0 0 1]\n",
      "[1 0 0]\n",
      "[0 1 0]\n",
      "[0 0 1]\n"
     ]
    },
    {
     "name": "stderr",
     "output_type": "stream",
     "text": [
      "\r",
      " 71%|███████████████████████████████████████████████████████▏                      | 947/1338 [00:04<00:02, 190.95it/s]"
     ]
    },
    {
     "name": "stdout",
     "output_type": "stream",
     "text": [
      "[1 0 0]\n",
      "[0 1 0]\n",
      "[0 0 1]\n",
      "[1 0 0]\n",
      "[0 1 0]\n",
      "[0 0 1]\n",
      "[1 0 0]\n",
      "[0 1 0]\n",
      "[0 0 1]\n",
      "[1 0 0]\n",
      "[0 1 0]\n",
      "[0 0 1]\n",
      "[1 0 0]\n",
      "[0 1 0]\n",
      "[0 0 1]\n",
      "[1 0 0]\n",
      "[0 1 0]\n",
      "[0 0 1]\n",
      "[1 0 0]\n",
      "[0 1 0]\n"
     ]
    },
    {
     "name": "stderr",
     "output_type": "stream",
     "text": [
      "\r",
      " 72%|████████████████████████████████████████████████████████▎                     | 967/1338 [00:05<00:01, 190.97it/s]"
     ]
    },
    {
     "name": "stdout",
     "output_type": "stream",
     "text": [
      "[0 0 1]\n",
      "[1 0 0]\n",
      "[0 1 0]\n",
      "[0 0 1]\n",
      "[1 0 0]\n",
      "[0 1 0]\n",
      "[0 0 1]\n",
      "[1 0 0]\n",
      "[0 1 0]\n",
      "[0 0 1]\n",
      "[1 0 0]\n",
      "[0 1 0]\n",
      "[0 0 1]\n",
      "[1 0 0]\n",
      "[0 1 0]\n",
      "[0 0 1]\n",
      "[1 0 0]\n",
      "[0 1 0]\n",
      "[0 0 1]\n",
      "[1 0 0]\n"
     ]
    },
    {
     "name": "stderr",
     "output_type": "stream",
     "text": [
      "\r",
      " 74%|█████████████████████████████████████████████████████████▌                    | 987/1338 [00:05<00:01, 190.77it/s]"
     ]
    },
    {
     "name": "stdout",
     "output_type": "stream",
     "text": [
      "[0 1 0]\n",
      "[0 0 1]\n",
      "[1 0 0]\n",
      "[0 1 0]\n",
      "[0 0 1]\n",
      "[1 0 0]\n",
      "[0 1 0]\n",
      "[0 0 1]\n",
      "[1 0 0]\n",
      "[0 1 0]\n",
      "[0 0 1]\n",
      "[1 0 0]\n",
      "[0 1 0]\n",
      "[0 0 1]\n",
      "[1 0 0]\n",
      "[0 1 0]\n",
      "[0 0 1]\n",
      "[1 0 0]\n",
      "[0 1 0]\n",
      "[0 0 1]\n"
     ]
    },
    {
     "name": "stderr",
     "output_type": "stream",
     "text": [
      "\r",
      " 75%|█████████████████████████████████████████████████████████▉                   | 1007/1338 [00:05<00:01, 190.62it/s]"
     ]
    },
    {
     "name": "stdout",
     "output_type": "stream",
     "text": [
      "[1 0 0]\n",
      "[0 1 0]\n",
      "[0 0 1]\n",
      "[1 0 0]\n",
      "[0 1 0]\n",
      "[0 0 1]\n",
      "[1 0 0]\n",
      "[0 1 0]\n",
      "[0 0 1]\n",
      "[1 0 0]\n",
      "[0 1 0]\n",
      "[0 0 1]\n",
      "[1 0 0]\n",
      "[0 1 0]\n",
      "[0 0 1]\n",
      "[1 0 0]\n",
      "[0 1 0]\n",
      "[0 0 1]\n",
      "[1 0 0]\n"
     ]
    },
    {
     "name": "stderr",
     "output_type": "stream",
     "text": [
      "\r",
      " 77%|███████████████████████████████████████████████████████████                  | 1026/1338 [00:05<00:01, 190.61it/s]"
     ]
    },
    {
     "name": "stdout",
     "output_type": "stream",
     "text": [
      "[0 1 0]\n",
      "[0 0 1]\n",
      "[1 0 0]\n",
      "[0 1 0]\n",
      "[0 0 1]\n",
      "[1 0 0]\n",
      "[0 1 0]\n",
      "[0 0 1]\n",
      "[1 0 0]\n",
      "[0 1 0]\n",
      "[0 0 1]\n",
      "[1 0 0]\n",
      "[0 1 0]\n",
      "[0 0 1]\n",
      "[1 0 0]\n",
      "[0 1 0]\n",
      "[0 0 1]\n",
      "[1 0 0]\n",
      "[0 1 0]\n",
      "[0 0 1]\n"
     ]
    },
    {
     "name": "stderr",
     "output_type": "stream",
     "text": [
      "\r",
      " 78%|████████████████████████████████████████████████████████████▏                | 1046/1338 [00:05<00:01, 190.67it/s]"
     ]
    },
    {
     "name": "stdout",
     "output_type": "stream",
     "text": [
      "[1 0 0]\n",
      "[0 1 0]\n",
      "[0 0 1]\n",
      "[1 0 0]\n",
      "[0 1 0]\n",
      "[0 0 1]\n",
      "[1 0 0]\n",
      "[0 1 0]\n",
      "[0 0 1]\n",
      "[1 0 0]\n",
      "[0 1 0]\n",
      "[0 0 1]\n",
      "[1 0 0]\n",
      "[0 1 0]\n",
      "[0 0 1]\n",
      "[1 0 0]\n",
      "[0 1 0]\n",
      "[0 0 1]\n",
      "[1 0 0]\n",
      "[0 1 0]\n"
     ]
    },
    {
     "name": "stderr",
     "output_type": "stream",
     "text": [
      "\r",
      " 80%|█████████████████████████████████████████████████████████████▎               | 1066/1338 [00:05<00:01, 190.84it/s]"
     ]
    },
    {
     "name": "stdout",
     "output_type": "stream",
     "text": [
      "[0 0 1]\n",
      "[1 0 0]\n",
      "[0 1 0]\n",
      "[0 0 1]\n",
      "[1 0 0]\n",
      "[0 1 0]\n",
      "[0 0 1]\n",
      "[1 0 0]\n",
      "[0 1 0]\n",
      "[0 0 1]\n",
      "[1 0 0]\n",
      "[0 1 0]\n",
      "[0 0 1]\n",
      "[1 0 0]\n",
      "[0 1 0]\n",
      "[0 0 1]\n",
      "[1 0 0]\n",
      "[0 1 0]\n",
      "[0 0 1]\n",
      "[1 0 0]\n"
     ]
    },
    {
     "name": "stderr",
     "output_type": "stream",
     "text": [
      "\r",
      " 81%|██████████████████████████████████████████████████████████████▍              | 1086/1338 [00:05<00:01, 190.96it/s]"
     ]
    },
    {
     "name": "stdout",
     "output_type": "stream",
     "text": [
      "[0 1 0]\n",
      "[0 0 1]\n",
      "[1 0 0]\n",
      "[0 1 0]\n",
      "[0 0 1]\n",
      "[1 0 0]\n",
      "[0 1 0]\n",
      "[0 0 1]\n",
      "[1 0 0]\n",
      "[0 1 0]\n",
      "[0 0 1]\n",
      "[1 0 0]\n",
      "[0 1 0]\n",
      "[0 0 1]\n",
      "[1 0 0]\n",
      "[0 1 0]\n",
      "[0 0 1]\n",
      "[1 0 0]\n",
      "[0 1 0]\n",
      "[0 0 1]\n",
      "[1 0 0]\n"
     ]
    },
    {
     "name": "stderr",
     "output_type": "stream",
     "text": [
      "\r",
      " 83%|███████████████████████████████████████████████████████████████▋             | 1107/1338 [00:05<00:01, 191.19it/s]"
     ]
    },
    {
     "name": "stdout",
     "output_type": "stream",
     "text": [
      "[0 1 0]\n",
      "[0 0 1]\n",
      "[1 0 0]\n",
      "[0 1 0]\n",
      "[0 0 1]\n",
      "[1 0 0]\n",
      "[0 1 0]\n",
      "[0 0 1]\n",
      "[1 0 0]\n",
      "[0 1 0]\n",
      "[0 0 1]\n",
      "[1 0 0]\n",
      "[0 1 0]\n",
      "[0 0 1]\n",
      "[1 0 0]\n",
      "[0 1 0]\n",
      "[0 0 1]\n",
      "[1 0 0]\n",
      "[0 1 0]\n",
      "[0 0 1]\n",
      "[1 0 0]\n"
     ]
    },
    {
     "name": "stderr",
     "output_type": "stream",
     "text": [
      "\r",
      " 84%|████████████████████████████████████████████████████████████████▉            | 1128/1338 [00:05<00:01, 191.41it/s]"
     ]
    },
    {
     "name": "stdout",
     "output_type": "stream",
     "text": [
      "[0 1 0]\n",
      "[0 0 1]\n",
      "[1 0 0]\n",
      "[0 1 0]\n",
      "[0 0 1]\n",
      "[1 0 0]\n",
      "[0 1 0]\n",
      "[0 0 1]\n",
      "[1 0 0]\n",
      "[0 1 0]\n",
      "[0 0 1]\n",
      "[1 0 0]\n",
      "[0 1 0]\n",
      "[0 0 1]\n",
      "[1 0 0]\n",
      "[0 1 0]\n",
      "[0 0 1]\n",
      "[1 0 0]\n",
      "[0 1 0]\n",
      "[0 0 1]\n"
     ]
    },
    {
     "name": "stderr",
     "output_type": "stream",
     "text": [
      "\r",
      " 86%|██████████████████████████████████████████████████████████████████           | 1148/1338 [00:05<00:00, 191.48it/s]"
     ]
    },
    {
     "name": "stdout",
     "output_type": "stream",
     "text": [
      "[1 0 0]\n",
      "[0 0 1]\n",
      "[1 0 0]\n",
      "[0 0 1]\n",
      "[1 0 0]\n",
      "[0 0 1]\n",
      "[1 0 0]\n",
      "[0 0 1]\n",
      "[1 0 0]\n",
      "[0 0 1]\n",
      "[1 0 0]\n",
      "[0 0 1]\n",
      "[1 0 0]\n",
      "[0 0 1]\n",
      "[1 0 0]\n",
      "[0 0 1]\n",
      "[1 0 0]\n",
      "[0 0 1]\n",
      "[0 0 1]\n",
      "[0 1 0]\n",
      "[0 0 1]\n"
     ]
    },
    {
     "name": "stderr",
     "output_type": "stream",
     "text": [
      "\r",
      " 87%|███████████████████████████████████████████████████████████████████▎         | 1169/1338 [00:06<00:00, 191.66it/s]"
     ]
    },
    {
     "name": "stdout",
     "output_type": "stream",
     "text": [
      "[1 0 0]\n",
      "[0 1 0]\n",
      "[0 0 1]\n",
      "[1 0 0]\n",
      "[0 1 0]\n",
      "[0 0 1]\n",
      "[1 0 0]\n",
      "[0 1 0]\n",
      "[0 0 1]\n",
      "[1 0 0]\n",
      "[0 1 0]\n",
      "[0 0 1]\n",
      "[1 0 0]\n",
      "[0 1 0]\n",
      "[0 0 1]\n",
      "[1 0 0]\n",
      "[0 1 0]\n",
      "[0 0 1]\n",
      "[1 0 0]\n",
      "[0 1 0]\n",
      "[0 0 1]\n"
     ]
    },
    {
     "name": "stderr",
     "output_type": "stream",
     "text": [
      "\r",
      " 89%|████████████████████████████████████████████████████████████████████▍        | 1190/1338 [00:06<00:00, 191.86it/s]"
     ]
    },
    {
     "name": "stdout",
     "output_type": "stream",
     "text": [
      "[1 0 0]\n",
      "[0 1 0]\n",
      "[0 0 1]\n",
      "[1 0 0]\n",
      "[0 1 0]\n",
      "[0 0 1]\n",
      "[1 0 0]\n",
      "[0 1 0]\n",
      "[0 0 1]\n",
      "[1 0 0]\n",
      "[0 1 0]\n",
      "[0 0 1]\n",
      "[1 0 0]\n",
      "[0 1 0]\n",
      "[0 0 1]\n",
      "[1 0 0]\n",
      "[0 1 0]\n",
      "[0 0 1]\n",
      "[1 0 0]\n",
      "[0 1 0]\n",
      "[0 0 1]\n"
     ]
    },
    {
     "name": "stderr",
     "output_type": "stream",
     "text": [
      "\r",
      " 91%|█████████████████████████████████████████████████████████████████████▋       | 1211/1338 [00:06<00:00, 191.96it/s]"
     ]
    },
    {
     "name": "stdout",
     "output_type": "stream",
     "text": [
      "[1 0 0]\n",
      "[0 1 0]\n",
      "[0 0 1]\n",
      "[1 0 0]\n",
      "[0 1 0]\n",
      "[0 0 1]\n",
      "[1 0 0]\n",
      "[0 1 0]\n",
      "[0 0 1]\n",
      "[1 0 0]\n",
      "[0 1 0]\n",
      "[0 0 1]\n",
      "[1 0 0]\n",
      "[0 1 0]\n",
      "[0 0 1]\n",
      "[1 0 0]\n",
      "[0 1 0]\n",
      "[0 0 1]\n",
      "[1 0 0]\n",
      "[0 1 0]\n",
      "[0 0 1]\n"
     ]
    },
    {
     "name": "stderr",
     "output_type": "stream",
     "text": [
      "\r",
      " 92%|██████████████████████████████████████████████████████████████████████▉      | 1232/1338 [00:06<00:00, 192.24it/s]"
     ]
    },
    {
     "name": "stdout",
     "output_type": "stream",
     "text": [
      "[1 0 0]\n",
      "[0 1 0]\n",
      "[0 0 1]\n",
      "[1 0 0]\n",
      "[0 1 0]\n",
      "[0 0 1]\n",
      "[1 0 0]\n",
      "[0 1 0]\n",
      "[0 0 1]\n",
      "[1 0 0]\n",
      "[0 1 0]\n",
      "[0 0 1]\n",
      "[1 0 0]\n",
      "[0 1 0]\n",
      "[0 0 1]\n",
      "[1 0 0]\n",
      "[0 1 0]\n",
      "[0 0 1]\n",
      "[1 0 0]\n",
      "[0 1 0]\n",
      "[0 0 1]\n"
     ]
    },
    {
     "name": "stderr",
     "output_type": "stream",
     "text": [
      "\r",
      " 94%|████████████████████████████████████████████████████████████████████████     | 1253/1338 [00:06<00:00, 192.45it/s]"
     ]
    },
    {
     "name": "stdout",
     "output_type": "stream",
     "text": [
      "[1 0 0]\n",
      "[0 1 0]\n",
      "[0 0 1]\n",
      "[1 0 0]\n",
      "[0 1 0]\n",
      "[0 0 1]\n",
      "[1 0 0]\n",
      "[0 1 0]\n",
      "[0 0 1]\n",
      "[1 0 0]\n",
      "[0 1 0]\n",
      "[0 0 1]\n",
      "[1 0 0]\n",
      "[0 1 0]\n",
      "[0 0 1]\n",
      "[1 0 0]\n",
      "[0 1 0]\n",
      "[0 0 1]\n",
      "[1 0 0]\n",
      "[0 1 0]\n",
      "[0 0 1]\n"
     ]
    },
    {
     "name": "stderr",
     "output_type": "stream",
     "text": [
      "\r",
      " 95%|█████████████████████████████████████████████████████████████████████████▎   | 1274/1338 [00:06<00:00, 192.66it/s]"
     ]
    },
    {
     "name": "stdout",
     "output_type": "stream",
     "text": [
      "[1 0 0]\n",
      "[0 1 0]\n",
      "[0 0 1]\n",
      "[1 0 0]\n",
      "[0 1 0]\n",
      "[0 0 1]\n",
      "[1 0 0]\n",
      "[0 1 0]\n",
      "[0 0 1]\n",
      "[1 0 0]\n",
      "[0 1 0]\n",
      "[0 0 1]\n",
      "[1 0 0]\n",
      "[0 1 0]\n",
      "[0 0 1]\n",
      "[1 0 0]\n",
      "[0 1 0]\n",
      "[0 0 1]\n",
      "[1 0 0]\n",
      "[0 1 0]\n",
      "[0 0 1]\n"
     ]
    },
    {
     "name": "stderr",
     "output_type": "stream",
     "text": [
      "\r",
      " 97%|██████████████████████████████████████████████████████████████████████████▌  | 1295/1338 [00:06<00:00, 192.74it/s]"
     ]
    },
    {
     "name": "stdout",
     "output_type": "stream",
     "text": [
      "[1 0 0]\n",
      "[0 1 0]\n",
      "[0 0 1]\n",
      "[1 0 0]\n",
      "[0 1 0]\n",
      "[0 0 1]\n",
      "[1 0 0]\n",
      "[0 1 0]\n",
      "[0 0 1]\n",
      "[1 0 0]\n",
      "[0 1 0]\n",
      "[0 0 1]\n",
      "[1 0 0]\n",
      "[0 1 0]\n",
      "[0 0 1]\n",
      "[1 0 0]\n",
      "[0 1 0]\n",
      "[0 0 1]\n",
      "[1 0 0]\n",
      "[0 1 0]\n",
      "[0 0 1]\n"
     ]
    },
    {
     "name": "stderr",
     "output_type": "stream",
     "text": [
      "\r",
      " 98%|███████████████████████████████████████████████████████████████████████████▋ | 1316/1338 [00:06<00:00, 192.80it/s]"
     ]
    },
    {
     "name": "stdout",
     "output_type": "stream",
     "text": [
      "[1 0 0]\n",
      "[0 1 0]\n",
      "[0 0 1]\n",
      "[1 0 0]\n",
      "[0 1 0]\n",
      "[0 0 1]\n",
      "[1 0 0]\n",
      "[0 1 0]\n",
      "[0 0 1]\n",
      "[1 0 0]\n",
      "[0 1 0]\n",
      "[0 0 1]\n",
      "[1 0 0]\n",
      "[0 1 0]\n",
      "[0 0 1]\n",
      "[1 0 0]\n",
      "[0 1 0]\n",
      "[0 0 1]\n",
      "[1 0 0]\n",
      "[0 1 0]\n",
      "[0 0 1]\n"
     ]
    },
    {
     "name": "stderr",
     "output_type": "stream",
     "text": [
      "\r",
      "100%|████████████████████████████████████████████████████████████████████████████▉| 1337/1338 [00:06<00:00, 192.88it/s]"
     ]
    },
    {
     "name": "stdout",
     "output_type": "stream",
     "text": [
      "[1 0 0]\n"
     ]
    },
    {
     "name": "stderr",
     "output_type": "stream",
     "text": [
      "100%|█████████████████████████████████████████████████████████████████████████████| 1338/1338 [00:06<00:00, 192.80it/s]\n",
      "100%|██████████████████████████████████████████████████████████████████████████████| 170/170 [00:00<00:00, 1035.85it/s]\n"
     ]
    }
   ],
   "source": [
    "train_data = create_train_data()\n",
    "test_data = create_test_data()"
   ]
  },
  {
   "cell_type": "code",
   "execution_count": 17,
   "metadata": {
    "collapsed": true
   },
   "outputs": [],
   "source": [
    "train = train_data[:-438]\n",
    "test = train_data[-438:]\n",
    "X_train = np.array([i[0] for i in train]).reshape(-1, 50, 50, 1)\n",
    "y_train = [i[1] for i in train]\n",
    "\n",
    "X_test = np.array([i[0] for i in test]).reshape(-1, 50, 50, 1)\n",
    "y_test = [i[1] for i in test]"
   ]
  },
  {
   "cell_type": "code",
   "execution_count": 18,
   "metadata": {},
   "outputs": [
    {
     "name": "stdout",
     "output_type": "stream",
     "text": [
      "Training Step: 74  | total loss: 0.02454 | time: 4.317s\n",
      "| Adam | epoch: 005 | loss: 0.02454 - acc: 0.9923 -- iter: 896/900\n",
      "Training Step: 75  | total loss: 0.02191 | time: 5.680s\n",
      "| Adam | epoch: 005 | loss: 0.02191 - acc: 0.9932 | val_loss: 0.00032 - val_acc: 1.0000 -- iter: 900/900\n",
      "--\n"
     ]
    }
   ],
   "source": [
    "tf.reset_default_graph()\n",
    "convnet = input_data(shape=[None, 50, 50, 1], name='input')\n",
    "convnet = conv_2d(convnet, 32, 5, activation='relu')\n",
    "convnet = max_pool_2d(convnet, 5)\n",
    "convnet = conv_2d(convnet, 64, 5, activation='relu')\n",
    "convnet = max_pool_2d(convnet, 5)\n",
    "convnet = conv_2d(convnet, 128, 5, activation='relu')\n",
    "convnet = max_pool_2d(convnet, 5)\n",
    "convnet = conv_2d(convnet, 64, 5, activation='relu')\n",
    "convnet = max_pool_2d(convnet, 5)\n",
    "convnet = conv_2d(convnet, 32, 5, activation='relu')\n",
    "convnet = max_pool_2d(convnet, 5)\n",
    "convnet = fully_connected(convnet, 1024, activation='relu')\n",
    "convnet = dropout(convnet, 0.8)\n",
    "convnet = fully_connected(convnet, 3, activation='softmax')\n",
    "convnet = regression(convnet, optimizer='adam', learning_rate= 1e-3, loss='categorical_crossentropy', name='targets')\n",
    "model = tflearn.DNN(convnet, tensorboard_dir='log', tensorboard_verbose=0)\n",
    "model.fit({'input': X_train}, {'targets': y_train}, n_epoch=5, \n",
    "        validation_set=({'input': X_test}, {'targets': y_test}), \n",
    "          snapshot_step=100, show_metric=True, run_id= 'Apple vs Orange')"
   ]
  },
  {
   "cell_type": "code",
   "execution_count": 19,
   "metadata": {},
   "outputs": [
    {
     "name": "stdout",
     "output_type": "stream",
     "text": [
      "Apple: 0.00019464880460873246, Orange: 0.9997976422309875, Banana: 7.693114639550913e-06\n"
     ]
    },
    {
     "data": {
      "image/png": "[encoded data removed]",
      "text/plain": [
       "<matplotlib.figure.Figure at 0x1862dcff2b0>"
      ]
     },
     "metadata": {},
     "output_type": "display_data"
    }
   ],
   "source": [
    "%matplotlib inline\n",
    "d = test_data[0]\n",
    "img_data, img_num = d\n",
    "\n",
    "data = img_data.reshape(50, 50, 1)\n",
    "prediction = model.predict([data])[0]\n",
    "\n",
    "fig = plt.figure(figsize=(6, 6))\n",
    "ax = fig.add_subplot(111)\n",
    "ax.imshow(img_data, cmap=\"gray\")\n",
    "print(f\"Apple: {prediction[1]}, Orange: {prediction[0]}, Banana: {prediction[2]}\")"
   ]
  },
  {
   "cell_type": "code",
   "execution_count": 23,
   "metadata": {},
   "outputs": [
    {
     "data": {
      "image/png": "[encoded data removed]",
      "text/plain": [
       "<matplotlib.figure.Figure at 0x1862ea37390>"
      ]
     },
     "metadata": {},
     "output_type": "display_data"
    }
   ],
   "source": [
    "fig=plt.figure(figsize=(14, 10))\n",
    "\n",
    "for num, data in enumerate(test_data[:20]):\n",
    "#     print(num)\n",
    "    img_num = data[1]\n",
    "    img_data = data[0]\n",
    "    \n",
    "    y = fig.add_subplot(4, 5, num+1)\n",
    "    orig = img_data\n",
    "    data = img_data.reshape(50, 50, 1)\n",
    "    model_out = model.predict([data])[0]\n",
    "#     print(model_out)\n",
    "    \n",
    "    if np.argmax(model_out) == 1: \n",
    "        str_label='Apple'\n",
    "    elif np.argmax(model_out) == 0:\n",
    "        str_label='Orange'\n",
    "    else :\n",
    "        str_label='Banana'\n",
    "        \n",
    "    y.imshow(orig, cmap='gray')\n",
    "    plt.title(str_label)\n",
    "plt.show()"
   ]
  },
  {
   "cell_type": "code",
   "execution_count": null,
   "metadata": {
    "collapsed": true
   },
   "outputs": [],
   "source": []
  }
 ],
 "metadata": {
  "kernelspec": {
   "display_name": "Python 3",
   "language": "python",
   "name": "python3"
  },
  "language_info": {
   "codemirror_mode": {
    "name": "ipython",
    "version": 3
   },
   "file_extension": ".py",
   "mimetype": "text/x-python",
   "name": "python",
   "nbconvert_exporter": "python",
   "pygments_lexer": "ipython3",
   "version": "3.6.3"
  }
 },
 "nbformat": 4,
 "nbformat_minor": 2
}
